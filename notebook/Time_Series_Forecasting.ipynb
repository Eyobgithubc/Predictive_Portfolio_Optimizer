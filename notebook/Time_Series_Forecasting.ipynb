{
 "cells": [
  {
   "cell_type": "code",
   "execution_count": 1,
   "metadata": {},
   "outputs": [],
   "source": [
    "import pandas as pd\n",
    "import warnings\n",
    "import numpy as np\n",
    "import sys\n",
    "import os\n",
    "import yfinance as yf"
   ]
  },
  {
   "cell_type": "code",
   "execution_count": 2,
   "metadata": {},
   "outputs": [],
   "source": [
    "sys.path.append(os.path.abspath('C:/Users/teeyob/Predictive_Portfolio_Optimizer/scripts'))"
   ]
  },
  {
   "cell_type": "code",
   "execution_count": 3,
   "metadata": {},
   "outputs": [],
   "source": [
    "from time_series_forecasting import train_arima, train_sarima, train_lstm, forecast_lstm, evaluate_forecast,forecast_arima\n",
    "from data_analysis_functions import download_data,clean_data"
   ]
  },
  {
   "cell_type": "code",
   "execution_count": 4,
   "metadata": {},
   "outputs": [
    {
     "name": "stderr",
     "output_type": "stream",
     "text": [
      "[*********************100%***********************]  3 of 3 completed\n"
     ]
    }
   ],
   "source": [
    "tickers = ['TSLA', 'BND', 'SPY']\n",
    "start_date = '2015-01-01'\n",
    "end_date = '2024-10-31'\n",
    "\n",
    "data = yf.download(tickers, start=start_date, end=end_date)\n",
    "    "
   ]
  },
  {
   "cell_type": "code",
   "execution_count": 9,
   "metadata": {},
   "outputs": [
    {
     "data": {
      "text/plain": [
       "<bound method NDFrame.head of Price                      Adj Close                              Close  \\\n",
       "Ticker                           BND         SPY        TSLA        BND   \n",
       "Date                                                                      \n",
       "2015-01-02 00:00:00+00:00  63.358742  173.173752   14.620667  82.650002   \n",
       "2015-01-05 00:00:00+00:00  63.542725  170.046341   14.006000  82.889999   \n",
       "2015-01-06 00:00:00+00:00  63.726727  168.444626   14.085333  83.129997   \n",
       "2015-01-07 00:00:00+00:00  63.765099  170.543640   14.063333  83.180000   \n",
       "2015-01-08 00:00:00+00:00  63.665394  173.569992   14.041333  83.050003   \n",
       "...                              ...         ...         ...        ...   \n",
       "2024-10-24 00:00:00+00:00  73.081184  579.239990  260.480011  73.309998   \n",
       "2024-10-25 00:00:00+00:00  72.931664  579.039978  269.190002  73.160004   \n",
       "2024-10-28 00:00:00+00:00  72.841942  580.830017  262.510010  73.070000   \n",
       "2024-10-29 00:00:00+00:00  72.901749  581.770020  259.519989  73.129997   \n",
       "2024-10-30 00:00:00+00:00  72.831970  580.010010  257.549988  73.059998   \n",
       "\n",
       "Price                                                   High              \\\n",
       "Ticker                            SPY        TSLA        BND         SPY   \n",
       "Date                                                                       \n",
       "2015-01-02 00:00:00+00:00  205.429993   14.620667  82.690002  206.880005   \n",
       "2015-01-05 00:00:00+00:00  201.720001   14.006000  82.919998  204.369995   \n",
       "2015-01-06 00:00:00+00:00  199.820007   14.085333  83.379997  202.720001   \n",
       "2015-01-07 00:00:00+00:00  202.309998   14.063333  83.279999  202.720001   \n",
       "2015-01-08 00:00:00+00:00  205.899994   14.041333  83.110001  206.160004   \n",
       "...                               ...         ...        ...         ...   \n",
       "2024-10-24 00:00:00+00:00  579.239990  260.480011  73.440002  580.059998   \n",
       "2024-10-25 00:00:00+00:00  579.039978  269.190002  73.480003  584.460022   \n",
       "2024-10-28 00:00:00+00:00  580.830017  262.510010  73.279999  582.710022   \n",
       "2024-10-29 00:00:00+00:00  581.770020  259.519989  73.139999  582.909973   \n",
       "2024-10-30 00:00:00+00:00  580.010010  257.549988  73.430000  583.320007   \n",
       "\n",
       "Price                                        Low                          \\\n",
       "Ticker                           TSLA        BND         SPY        TSLA   \n",
       "Date                                                                       \n",
       "2015-01-02 00:00:00+00:00   14.883333  82.419998  204.179993   14.217333   \n",
       "2015-01-05 00:00:00+00:00   14.433333  82.699997  201.350006   13.810667   \n",
       "2015-01-06 00:00:00+00:00   14.280000  83.029999  198.860001   13.614000   \n",
       "2015-01-07 00:00:00+00:00   14.318667  83.050003  200.880005   13.985333   \n",
       "2015-01-08 00:00:00+00:00   14.253333  82.970001  203.990005   14.000667   \n",
       "...                               ...        ...         ...         ...   \n",
       "2024-10-24 00:00:00+00:00  262.119995  73.169998  576.570007  242.649994   \n",
       "2024-10-25 00:00:00+00:00  269.489990  73.129997  578.080017  255.320007   \n",
       "2024-10-28 00:00:00+00:00  273.540009  72.949997  580.520020  262.239990   \n",
       "2024-10-29 00:00:00+00:00  264.980011  72.790001  578.429993  255.509995   \n",
       "2024-10-30 00:00:00+00:00  263.350006  73.019997  579.289978  255.820007   \n",
       "\n",
       "Price                           Open                           Volume  \\\n",
       "Ticker                           BND         SPY        TSLA      BND   \n",
       "Date                                                                    \n",
       "2015-01-02 00:00:00+00:00  82.430000  206.380005   14.858000  2218800   \n",
       "2015-01-05 00:00:00+00:00  82.739998  204.169998   14.303333  5820100   \n",
       "2015-01-06 00:00:00+00:00  83.029999  202.089996   14.004000  3887600   \n",
       "2015-01-07 00:00:00+00:00  83.139999  201.419998   14.223333  2433400   \n",
       "2015-01-08 00:00:00+00:00  83.110001  204.009995   14.187333  1873400   \n",
       "...                              ...         ...         ...      ...   \n",
       "2024-10-24 00:00:00+00:00  73.279999  579.979980  244.679993  6219500   \n",
       "2024-10-25 00:00:00+00:00  73.480003  581.510010  256.010010  4641400   \n",
       "2024-10-28 00:00:00+00:00  73.239998  582.580017  270.000000  4582800   \n",
       "2024-10-29 00:00:00+00:00  72.900002  579.849976  264.510010  5543800   \n",
       "2024-10-30 00:00:00+00:00  73.269997  581.289978  258.040009  4610300   \n",
       "\n",
       "Price                                            \n",
       "Ticker                           SPY       TSLA  \n",
       "Date                                             \n",
       "2015-01-02 00:00:00+00:00  121465900   71466000  \n",
       "2015-01-05 00:00:00+00:00  169632600   80527500  \n",
       "2015-01-06 00:00:00+00:00  209151400   93928500  \n",
       "2015-01-07 00:00:00+00:00  125346700   44526000  \n",
       "2015-01-08 00:00:00+00:00  147217800   51637500  \n",
       "...                              ...        ...  \n",
       "2024-10-24 00:00:00+00:00   34979900  204491900  \n",
       "2024-10-25 00:00:00+00:00   47268200  161611900  \n",
       "2024-10-28 00:00:00+00:00   30174700  107653600  \n",
       "2024-10-29 00:00:00+00:00   42899700   80521800  \n",
       "2024-10-30 00:00:00+00:00   41435800   53993600  \n",
       "\n",
       "[2474 rows x 18 columns]>"
      ]
     },
     "execution_count": 9,
     "metadata": {},
     "output_type": "execute_result"
    }
   ],
   "source": [
    "data = clean_data(data)\n",
    "data.head"
   ]
  },
  {
   "cell_type": "code",
   "execution_count": null,
   "metadata": {},
   "outputs": [],
   "source": [
    "train_data = data[('Adj Close', 'TSLA')][:'2022']\n",
    "test_data = data[('Adj Close', 'TSLA')]['2023':]"
   ]
  },
  {
   "cell_type": "markdown",
   "metadata": {},
   "source": [
    "Ensure the train data index is a DatetimeIndex"
   ]
  },
  {
   "cell_type": "code",
   "execution_count": 15,
   "metadata": {},
   "outputs": [],
   "source": [
    "train_data.index = pd.to_datetime(train_data.index)\n",
    "test_data.index = pd.to_datetime(test_data.index)\n",
    "warnings.filterwarnings(\"ignore\", message=\"No supported index is available\")"
   ]
  },
  {
   "cell_type": "markdown",
   "metadata": {},
   "source": [
    "Train ARIMA model"
   ]
  },
  {
   "cell_type": "code",
   "execution_count": 16,
   "metadata": {},
   "outputs": [
    {
     "name": "stderr",
     "output_type": "stream",
     "text": [
      "c:\\Users\\teeyob\\Predictive_Portfolio_Optimizer\\.venv\\Lib\\site-packages\\statsmodels\\tsa\\base\\tsa_model.py:473: ValueWarning: A date index has been provided, but it has no associated frequency information and so will be ignored when e.g. forecasting.\n",
      "  self._init_dates(dates, freq)\n",
      "c:\\Users\\teeyob\\Predictive_Portfolio_Optimizer\\.venv\\Lib\\site-packages\\statsmodels\\tsa\\base\\tsa_model.py:473: ValueWarning: A date index has been provided, but it has no associated frequency information and so will be ignored when e.g. forecasting.\n",
      "  self._init_dates(dates, freq)\n",
      "c:\\Users\\teeyob\\Predictive_Portfolio_Optimizer\\.venv\\Lib\\site-packages\\statsmodels\\tsa\\base\\tsa_model.py:473: ValueWarning: A date index has been provided, but it has no associated frequency information and so will be ignored when e.g. forecasting.\n",
      "  self._init_dates(dates, freq)\n"
     ]
    }
   ],
   "source": [
    "arima_model = train_arima(train_data, order=(1, 1, 1))"
   ]
  },
  {
   "cell_type": "markdown",
   "metadata": {},
   "source": [
    "Forecast using the trained ARIMA model"
   ]
  },
  {
   "cell_type": "code",
   "execution_count": null,
   "metadata": {},
   "outputs": [
    {
     "name": "stdout",
     "output_type": "stream",
     "text": [
      "ARIMA Evaluation: {'MAE': np.float64(88.21168239768238), 'RMSE': 95.62463833667206, 'MAPE': np.float64(39.81058208390919)}\n",
      "First few rows of the forecast:\n",
      "Date\n",
      "2023-01-03 00:00:00+00:00    123.201250\n",
      "2023-01-04 00:00:00+00:00    123.190937\n",
      "2023-01-05 00:00:00+00:00    123.195942\n",
      "2023-01-06 00:00:00+00:00    123.193513\n",
      "2023-01-09 00:00:00+00:00    123.194692\n",
      "Name: predicted_mean, dtype: float64\n"
     ]
    }
   ],
   "source": [
    "arima_forecast = arima_model.get_forecast(steps=len(test_data)).predicted_mean\n",
    "arima_forecast.index = test_data.index  \n",
    "\n",
    "print(\"ARIMA Evaluation:\", evaluate_forecast(test_data, arima_forecast))\n",
    "\n",
    "print(\"First few rows of the forecast:\")\n",
    "print(arima_forecast.head())"
   ]
  },
  {
   "cell_type": "markdown",
   "metadata": {},
   "source": [
    "SARIMA Model"
   ]
  },
  {
   "cell_type": "code",
   "execution_count": null,
   "metadata": {},
   "outputs": [
    {
     "name": "stderr",
     "output_type": "stream",
     "text": [
      "c:\\Users\\teeyob\\Predictive_Portfolio_Optimizer\\.venv\\Lib\\site-packages\\statsmodels\\tsa\\base\\tsa_model.py:473: ValueWarning: A date index has been provided, but it has no associated frequency information and so will be ignored when e.g. forecasting.\n",
      "  self._init_dates(dates, freq)\n",
      "c:\\Users\\teeyob\\Predictive_Portfolio_Optimizer\\.venv\\Lib\\site-packages\\statsmodels\\tsa\\base\\tsa_model.py:473: ValueWarning: A date index has been provided, but it has no associated frequency information and so will be ignored when e.g. forecasting.\n",
      "  self._init_dates(dates, freq)\n"
     ]
    },
    {
     "name": "stdout",
     "output_type": "stream",
     "text": [
      "SARIMA Evaluation: {'MAE': np.float64(77.28267438335756), 'RMSE': 85.49586439089785, 'MAPE': np.float64(34.59939277014497)}\n"
     ]
    }
   ],
   "source": [
    "sarima_model = train_sarima(train_data, order=(1, 1, 1), seasonal_order=(1, 1, 1, 12))\n",
    "sarima_predictions = sarima_model.forecast(steps=len(test_data))\n",
    "print(\"SARIMA Evaluation:\", evaluate_forecast(test_data, sarima_predictions))"
   ]
  },
  {
   "cell_type": "markdown",
   "metadata": {},
   "source": [
    "LSTM Model"
   ]
  },
  {
   "cell_type": "code",
   "execution_count": 19,
   "metadata": {},
   "outputs": [
    {
     "name": "stderr",
     "output_type": "stream",
     "text": [
      "c:\\Users\\teeyob\\Predictive_Portfolio_Optimizer\\.venv\\Lib\\site-packages\\keras\\src\\layers\\rnn\\rnn.py:204: UserWarning: Do not pass an `input_shape`/`input_dim` argument to a layer. When using Sequential models, prefer using an `Input(shape)` object as the first layer in the model instead.\n",
      "  super().__init__(**kwargs)\n"
     ]
    },
    {
     "name": "stdout",
     "output_type": "stream",
     "text": [
      "Epoch 1/20\n",
      "\u001b[1m62/62\u001b[0m \u001b[32m━━━━━━━━━━━━━━━━━━━━\u001b[0m\u001b[37m\u001b[0m \u001b[1m7s\u001b[0m 12ms/step - loss: 23920.4902\n",
      "Epoch 2/20\n",
      "\u001b[1m62/62\u001b[0m \u001b[32m━━━━━━━━━━━━━━━━━━━━\u001b[0m\u001b[37m\u001b[0m \u001b[1m1s\u001b[0m 11ms/step - loss: 5341.0903\n",
      "Epoch 3/20\n",
      "\u001b[1m62/62\u001b[0m \u001b[32m━━━━━━━━━━━━━━━━━━━━\u001b[0m\u001b[37m\u001b[0m \u001b[1m1s\u001b[0m 11ms/step - loss: 1388787.6250\n",
      "Epoch 4/20\n",
      "\u001b[1m62/62\u001b[0m \u001b[32m━━━━━━━━━━━━━━━━━━━━\u001b[0m\u001b[37m\u001b[0m \u001b[1m1s\u001b[0m 11ms/step - loss: 16015830.0000\n",
      "Epoch 5/20\n",
      "\u001b[1m62/62\u001b[0m \u001b[32m━━━━━━━━━━━━━━━━━━━━\u001b[0m\u001b[37m\u001b[0m \u001b[1m1s\u001b[0m 10ms/step - loss: 2423.0764\n",
      "Epoch 6/20\n",
      "\u001b[1m62/62\u001b[0m \u001b[32m━━━━━━━━━━━━━━━━━━━━\u001b[0m\u001b[37m\u001b[0m \u001b[1m1s\u001b[0m 10ms/step - loss: 1300.1147\n",
      "Epoch 7/20\n",
      "\u001b[1m62/62\u001b[0m \u001b[32m━━━━━━━━━━━━━━━━━━━━\u001b[0m\u001b[37m\u001b[0m \u001b[1m1s\u001b[0m 10ms/step - loss: 4400.1118\n",
      "Epoch 8/20\n",
      "\u001b[1m62/62\u001b[0m \u001b[32m━━━━━━━━━━━━━━━━━━━━\u001b[0m\u001b[37m\u001b[0m \u001b[1m1s\u001b[0m 11ms/step - loss: 1249.7316\n",
      "Epoch 9/20\n",
      "\u001b[1m62/62\u001b[0m \u001b[32m━━━━━━━━━━━━━━━━━━━━\u001b[0m\u001b[37m\u001b[0m \u001b[1m1s\u001b[0m 10ms/step - loss: 1371.1469\n",
      "Epoch 10/20\n",
      "\u001b[1m62/62\u001b[0m \u001b[32m━━━━━━━━━━━━━━━━━━━━\u001b[0m\u001b[37m\u001b[0m \u001b[1m1s\u001b[0m 10ms/step - loss: 1311.3665\n",
      "Epoch 11/20\n",
      "\u001b[1m62/62\u001b[0m \u001b[32m━━━━━━━━━━━━━━━━━━━━\u001b[0m\u001b[37m\u001b[0m \u001b[1m1s\u001b[0m 9ms/step - loss: 1290.8428\n",
      "Epoch 12/20\n",
      "\u001b[1m62/62\u001b[0m \u001b[32m━━━━━━━━━━━━━━━━━━━━\u001b[0m\u001b[37m\u001b[0m \u001b[1m1s\u001b[0m 10ms/step - loss: 1213.2758\n",
      "Epoch 13/20\n",
      "\u001b[1m62/62\u001b[0m \u001b[32m━━━━━━━━━━━━━━━━━━━━\u001b[0m\u001b[37m\u001b[0m \u001b[1m1s\u001b[0m 11ms/step - loss: 1223.6681\n",
      "Epoch 14/20\n",
      "\u001b[1m62/62\u001b[0m \u001b[32m━━━━━━━━━━━━━━━━━━━━\u001b[0m\u001b[37m\u001b[0m \u001b[1m1s\u001b[0m 10ms/step - loss: 1194.5625\n",
      "Epoch 15/20\n",
      "\u001b[1m62/62\u001b[0m \u001b[32m━━━━━━━━━━━━━━━━━━━━\u001b[0m\u001b[37m\u001b[0m \u001b[1m1s\u001b[0m 10ms/step - loss: 1196.3062\n",
      "Epoch 16/20\n",
      "\u001b[1m62/62\u001b[0m \u001b[32m━━━━━━━━━━━━━━━━━━━━\u001b[0m\u001b[37m\u001b[0m \u001b[1m1s\u001b[0m 11ms/step - loss: 1135.4822\n",
      "Epoch 17/20\n",
      "\u001b[1m62/62\u001b[0m \u001b[32m━━━━━━━━━━━━━━━━━━━━\u001b[0m\u001b[37m\u001b[0m \u001b[1m1s\u001b[0m 11ms/step - loss: 1304.0375\n",
      "Epoch 18/20\n",
      "\u001b[1m62/62\u001b[0m \u001b[32m━━━━━━━━━━━━━━━━━━━━\u001b[0m\u001b[37m\u001b[0m \u001b[1m1s\u001b[0m 10ms/step - loss: 1227.5310\n",
      "Epoch 19/20\n",
      "\u001b[1m62/62\u001b[0m \u001b[32m━━━━━━━━━━━━━━━━━━━━\u001b[0m\u001b[37m\u001b[0m \u001b[1m1s\u001b[0m 10ms/step - loss: 1141.7755\n",
      "Epoch 20/20\n",
      "\u001b[1m62/62\u001b[0m \u001b[32m━━━━━━━━━━━━━━━━━━━━\u001b[0m\u001b[37m\u001b[0m \u001b[1m1s\u001b[0m 11ms/step - loss: 1157.1626\n",
      "LSTM Evaluation: {'MAE': np.float64(30.618322939989042), 'RMSE': 39.38617622447968, 'MAPE': np.float64(13.928575236456513)}\n"
     ]
    }
   ],
   "source": [
    "lstm_model, n_steps = train_lstm(train_data.values, n_steps=50)\n",
    "lstm_predictions = forecast_lstm(lstm_model, test_data.values, n_steps=n_steps)\n",
    "print(\"LSTM Evaluation:\", evaluate_forecast(test_data.values[n_steps:], lstm_predictions))"
   ]
  }
 ],
 "metadata": {
  "kernelspec": {
   "display_name": ".venv",
   "language": "python",
   "name": "python3"
  },
  "language_info": {
   "codemirror_mode": {
    "name": "ipython",
    "version": 3
   },
   "file_extension": ".py",
   "mimetype": "text/x-python",
   "name": "python",
   "nbconvert_exporter": "python",
   "pygments_lexer": "ipython3",
   "version": "3.12.5"
  }
 },
 "nbformat": 4,
 "nbformat_minor": 2
}
